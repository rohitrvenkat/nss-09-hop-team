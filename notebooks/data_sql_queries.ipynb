{
 "cells": [
  {
   "cell_type": "code",
   "execution_count": 7,
   "metadata": {},
   "outputs": [],
   "source": [
    "import pandas as pd\n",
    "import sqlite3"
   ]
  },
  {
   "cell_type": "code",
   "execution_count": 4,
   "metadata": {},
   "outputs": [],
   "source": [
    "pd.set_option('display.max_columns', 50)\n",
    "pd.set_option('display.max_rows', 100)"
   ]
  },
  {
   "cell_type": "code",
   "execution_count": 5,
   "metadata": {},
   "outputs": [
    {
     "name": "stdout",
     "output_type": "stream",
     "text": [
      "CPU times: user 1.72 s, sys: 104 ms, total: 1.82 s\n",
      "Wall time: 1.99 s\n"
     ]
    }
   ],
   "source": [
    "%%time\n",
    "\n",
    "query = \"\"\"\n",
    "     \n",
    "    select *\n",
    "    from referrals_geo\n",
    "    left join communities_from\n",
    "        using (from_npi)\n",
    "    left join communities_to\n",
    "        using (to_npi)\n",
    "    left join affiliations_from\n",
    "        using (from_npi)\n",
    "    left join affiliations_to\n",
    "        using (to_npi)\n",
    "    where entity_from = 1\n",
    "        and entity_to = 2\n",
    "        and state_from in ('AL','AR','GA','KY','MO','MS','NC','TN','VA')\n",
    "        and classification_to not in ('Anesthesiology'\n",
    "                                      'Emergency Medicine',\n",
    "                                      'Nurse Anesthetist, Certified Registered',\n",
    "                                      'Pathology',\n",
    "                                      'Radiology')\n",
    "        and classification_to not in ('Ambulance',\n",
    "                                      'Clinical Medical Laboratory',\n",
    "                                      'Durable Medical Equipment & Medical Supplies',\n",
    "                                      'Pharmacy',\n",
    "                                      'Physiological Laboratory',\n",
    "                                      'Portable X-ray and/or Other Portable Diagnostic Imaging Supplier',\n",
    "                                      'Prosthetic/Orthotic Supplier',\n",
    "                                      'Radiology')\n",
    "\n",
    "\"\"\"\n",
    "\n",
    "with sqlite3.connect('../data/hopteam_broad.sqlite') as db:\n",
    "    hop_teaming_provider_to_facility = pd.read_sql(query, db)\n",
    "\n",
    "hop_teaming_provider_to_facility.to_csv('../data/hop_teaming_provider_to_facility.csv', index = False)"
   ]
  },
  {
   "cell_type": "code",
   "execution_count": 6,
   "metadata": {},
   "outputs": [
    {
     "name": "stdout",
     "output_type": "stream",
     "text": [
      "CPU times: user 1.52 s, sys: 56.3 ms, total: 1.58 s\n",
      "Wall time: 1.78 s\n"
     ]
    }
   ],
   "source": [
    "%%time\n",
    "\n",
    "query = \"\"\"\n",
    "     \n",
    "    select *\n",
    "    from referrals_geo\n",
    "    left join communities_from\n",
    "        using (from_npi)\n",
    "    left join communities_to\n",
    "        using (to_npi)\n",
    "    left join affiliations_from\n",
    "        using (from_npi)\n",
    "    left join affiliations_to\n",
    "        using (to_npi)\n",
    "    where entity_from = 2\n",
    "        and entity_to = 1\n",
    "        and state_from in ('AL','AR','GA','KY','MO','MS','NC','TN','VA')\n",
    "        and affiliation_to != 'NOT IN NASHVILLE'\n",
    "        and classification_from not in ('Ambulance',\n",
    "                                        'Clinical Medical Laboratory',\n",
    "                                        'Durable Medical Equipment & Medical Supplies',\n",
    "                                        'Pharmacy',\n",
    "                                        'Physiological Laboratory',\n",
    "                                        'Portable X-ray and/or Other Portable Diagnostic Imaging Supplier',\n",
    "                                        'Prosthetic/Orthotic Supplier',\n",
    "                                        'Radiology')\n",
    "\n",
    "\"\"\"\n",
    "\n",
    "with sqlite3.connect('../data/hopteam_broad.sqlite') as db:\n",
    "    hop_teaming_facility_to_provider = pd.read_sql(query, db)\n",
    "\n",
    "hop_teaming_facility_to_provider.to_csv('../data/hop_teaming_facility_to_provider.csv', index = False)"
   ]
  }
 ],
 "metadata": {
  "interpreter": {
   "hash": "3d6140ef0c675026b0200147df87972487ebc0097827c4c765c9e0dcd9cf7b2f"
  },
  "kernelspec": {
   "display_name": "Python 3.8.8 ('base')",
   "language": "python",
   "name": "python3"
  },
  "language_info": {
   "codemirror_mode": {
    "name": "ipython",
    "version": 3
   },
   "file_extension": ".py",
   "mimetype": "text/x-python",
   "name": "python",
   "nbconvert_exporter": "python",
   "pygments_lexer": "ipython3",
   "version": "3.8.8"
  },
  "orig_nbformat": 4
 },
 "nbformat": 4,
 "nbformat_minor": 2
}
